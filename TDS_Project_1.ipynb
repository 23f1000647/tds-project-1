{
  "cells": [
    {
      "cell_type": "code",
      "execution_count": 115,
      "metadata": {
        "id": "L7FAvB2mQPa9"
      },
      "outputs": [],
      "source": [
        "import requests\n",
        "import pandas as pd\n",
        "import time\n",
        "from datetime import datetime\n",
        "import numpy as np\n",
        "from sklearn.linear_model import LinearRegression\n",
        "from scipy.stats import linregress\n",
        "\n",
        "# GitHub API authentication (use your personal access token)\n",
        "GITHUB_TOKEN = \"fill your token here\"\n",
        "headers = {'Authorization': f'token {GITHUB_TOKEN}'}"
      ]
    },
    {
      "cell_type": "code",
      "execution_count": 64,
      "metadata": {
        "id": "yFh4-_aGQYyr"
      },
      "outputs": [],
      "source": [
        "def get_berlin_users():\n",
        "    users = []\n",
        "    page = 1\n",
        "    per_page = 50  # GitHub allows fetching 100 results per page\n",
        "\n",
        "    while True:\n",
        "        # Search users in Berlin with more than 200 followers\n",
        "        url = f\"https://api.github.com/search/users?q=location:Berlin+followers:>200&per_page={per_page}&page={page}\"\n",
        "        response = requests.get(url, headers=headers)\n",
        "        data = response.json()\n",
        "\n",
        "        # Exit if no more users are found\n",
        "        if 'items' not in data or len(data['items']) == 0:\n",
        "            break\n",
        "\n",
        "        users.extend(data['items'])\n",
        "        page += 1\n",
        "        # Pause to avoid rate-limiting\n",
        "        time.sleep(1)\n",
        "\n",
        "    return users"
      ]
    },
    {
      "cell_type": "code",
      "execution_count": 65,
      "metadata": {
        "id": "XeqsT_jBQ7lB"
      },
      "outputs": [],
      "source": [
        "def get_user_details(user_login):\n",
        "    # Fetch user details\n",
        "    user_url = f\"https://api.github.com/users/{user_login}\"\n",
        "    user_response = requests.get(user_url, headers=headers)\n",
        "    user_data = user_response.json()\n",
        "\n",
        "    return user_data"
      ]
    },
    {
      "cell_type": "code",
      "source": [
        "def get_user_repositories_details(user_login):\n",
        "    # Fetch user repositories\n",
        "    repos_url = f\"https://api.github.com/users/{user_login}/repos?sort=pushed&per_page=500\"\n",
        "    repos_response = requests.get(repos_url, headers=headers)\n",
        "    repos_data = repos_response.json()\n",
        "\n",
        "    # return user_data, repos_data\n",
        "    return repos_data"
      ],
      "metadata": {
        "id": "faB7oj1LpdlW"
      },
      "execution_count": 66,
      "outputs": []
    },
    {
      "cell_type": "code",
      "execution_count": 67,
      "metadata": {
        "id": "KF14MrZ4RBR7"
      },
      "outputs": [],
      "source": [
        "def clean_company_name(company):\n",
        "    if company:\n",
        "        company = company.strip()  # Remove leading/trailing whitespace\n",
        "        company = company.lstrip('@')  # Remove leading '@'\n",
        "        company = company.strip()  # Remove leading/trailing whitespace\n",
        "        company = company.upper()  # Convert to uppercase\n",
        "    return company"
      ]
    },
    {
      "cell_type": "code",
      "execution_count": 71,
      "metadata": {
        "id": "8R_8SKkkREDF"
      },
      "outputs": [],
      "source": [
        "def scrape_berlin_users_to_csv():\n",
        "    user_list = []\n",
        "    for user in users:\n",
        "        user_login = user['login']\n",
        "\n",
        "        # Get detailed user info and repos\n",
        "        # user_data, repos_data = get_user_details(user_login)\n",
        "\n",
        "        user_data = get_user_details(user_login)\n",
        "\n",
        "        user_info = {\n",
        "            'login': user_data.get('login'),\n",
        "            'name': user_data.get('name'),\n",
        "            'company': clean_company_name(user_data.get('company')),\n",
        "            'location': user_data.get('location'),\n",
        "            'email': user_data.get('email'),\n",
        "            'hireable': 'true' if user_data.get('hireable') else 'false',\n",
        "            'bio': user_data.get('bio'),\n",
        "            'public_repos': user_data.get('public_repos'),\n",
        "            'followers': user_data.get('followers'),\n",
        "            'following': user_data.get('following'),\n",
        "            'created_at': user_data.get('created_at')\n",
        "        }\n",
        "        user_list.append(user_info)\n",
        "\n",
        "        time.sleep(1)\n",
        "\n",
        "    # Create DataFrame and save to CSV\n",
        "    df_users = pd.DataFrame(user_list)\n",
        "    df_users.to_csv('users.csv', index=False)\n",
        "    print(\"Data saved to users.csv\")"
      ]
    },
    {
      "cell_type": "code",
      "source": [
        "def scrape_berlin_users_repositories_to_csv():\n",
        "    user_repo_data = []\n",
        "    for user in users:\n",
        "        user_login = user['login']\n",
        "\n",
        "        # Get detailed user info and repos\n",
        "        # user_data, repos_data = get_user_details(user_login)\n",
        "\n",
        "        repo_data = get_user_repositories_details(user_login)\n",
        "\n",
        "        for repo in repo_data:\n",
        "          repo_info = {\n",
        "              'login': user_login,\n",
        "              'full_name': repo.get('full_name'),\n",
        "              'created_at': repo.get('created_at'),\n",
        "              'stargazers_count': repo.get('stargazers_count'),\n",
        "              'watchers_count': repo.get('watchers_count'),\n",
        "              'language': repo.get('language'),\n",
        "              'has_projects': 'true' if repo.get('has_projects') else 'false',\n",
        "              'has_wiki': 'true' if repo.get('has_wiki') else 'false',\n",
        "              'license_name' : repo.get('license', {}).get('key') if repo.get('license') else None\n",
        "          }\n",
        "          user_repo_data.append(repo_info)\n",
        "\n",
        "    # Create DataFrame and save to CSV\n",
        "    df_users_repo = pd.DataFrame(user_repo_data)\n",
        "    df_users_repo.to_csv('repositories.csv', index=False)\n",
        "    print(\"Data saved to repositories.csv\")"
      ],
      "metadata": {
        "id": "YqxIT5oXpap1"
      },
      "execution_count": 75,
      "outputs": []
    },
    {
      "cell_type": "code",
      "source": [
        "users = get_berlin_users()"
      ],
      "metadata": {
        "id": "FByaG2cVIVih"
      },
      "execution_count": 68,
      "outputs": []
    },
    {
      "cell_type": "code",
      "execution_count": null,
      "metadata": {
        "id": "R6YNxERARG8X"
      },
      "outputs": [],
      "source": [
        "scrape_berlin_users_to_csv()"
      ]
    },
    {
      "cell_type": "code",
      "source": [
        "scrape_berlin_users_repositories_to_csv()"
      ],
      "metadata": {
        "id": "XoAceFd_sM-c"
      },
      "execution_count": null,
      "outputs": []
    },
    {
      "cell_type": "markdown",
      "source": [
        "### Execute the next step if the users and repositories data was already scraped and kept in drive"
      ],
      "metadata": {
        "id": "OcL_lJS_ZrMF"
      }
    },
    {
      "cell_type": "code",
      "source": [
        "from google.colab import drive\n",
        "drive.mount('/content/drive')\n",
        "df_users = pd.read_csv('/content/drive/My Drive/users.csv')\n",
        "df_repositories = pd.read_csv('/content/drive/My Drive/repositories.csv')"
      ],
      "metadata": {
        "colab": {
          "base_uri": "https://localhost:8080/"
        },
        "id": "8VVspZavBY9P",
        "outputId": "6f2f34d4-1d7b-467e-961e-aa6da2df3edc"
      },
      "execution_count": 77,
      "outputs": [
        {
          "output_type": "stream",
          "name": "stdout",
          "text": [
            "Drive already mounted at /content/drive; to attempt to forcibly remount, call drive.mount(\"/content/drive\", force_remount=True).\n"
          ]
        }
      ]
    },
    {
      "cell_type": "markdown",
      "source": [
        "### Execute this step if users and repositories data was scraped now"
      ],
      "metadata": {
        "id": "7zmjds-MZ6FL"
      }
    },
    {
      "cell_type": "code",
      "source": [
        "df_users = pd.read_csv('users.csv')\n",
        "df_repositories = pd.read_csv('repositories.csv')"
      ],
      "metadata": {
        "id": "RArlLevlaEzI"
      },
      "execution_count": null,
      "outputs": []
    },
    {
      "cell_type": "markdown",
      "source": [
        "### Question 1"
      ],
      "metadata": {
        "id": "MhJjAPmQ_9pw"
      }
    },
    {
      "cell_type": "code",
      "source": [
        "top5followers = df_users.sort_values(by=['followers'],ascending=False)['login'][0:5]\n",
        "\",\".join(list(top5followers))"
      ],
      "metadata": {
        "colab": {
          "base_uri": "https://localhost:8080/",
          "height": 35
        },
        "id": "i84penorkxdR",
        "outputId": "ac5a9d95-e408-470a-8d1e-ab4d30635c69"
      },
      "execution_count": 22,
      "outputs": [
        {
          "output_type": "execute_result",
          "data": {
            "text/plain": [
              "'tiangolo,schacon,rwieruch,shuding,android10'"
            ],
            "application/vnd.google.colaboratory.intrinsic+json": {
              "type": "string"
            }
          },
          "metadata": {},
          "execution_count": 22
        }
      ]
    },
    {
      "cell_type": "markdown",
      "source": [
        "### Question 2"
      ],
      "metadata": {
        "id": "U9r5_I-IAmwR"
      }
    },
    {
      "cell_type": "code",
      "source": [
        "early5creators = df_users.sort_values(by=['created_at'],ascending=True)['login'][0:5]\n",
        "\",\".join(list(early5creators))"
      ],
      "metadata": {
        "colab": {
          "base_uri": "https://localhost:8080/",
          "height": 35
        },
        "id": "usvnaV-Jnqki",
        "outputId": "81a58b5e-cd9a-4174-c017-aa9d74c98396"
      },
      "execution_count": 25,
      "outputs": [
        {
          "output_type": "execute_result",
          "data": {
            "text/plain": [
              "'schacon,adamwiggins,myobie,lstoll,znarf'"
            ],
            "application/vnd.google.colaboratory.intrinsic+json": {
              "type": "string"
            }
          },
          "metadata": {},
          "execution_count": 25
        }
      ]
    },
    {
      "cell_type": "markdown",
      "source": [
        "### Question 3"
      ],
      "metadata": {
        "id": "8Vjv6SGeAz-T"
      }
    },
    {
      "cell_type": "code",
      "source": [
        "','.join(df_repositories['license_name'].value_counts().head(3).index)"
      ],
      "metadata": {
        "colab": {
          "base_uri": "https://localhost:8080/",
          "height": 35
        },
        "id": "GiTOmyGAB-iu",
        "outputId": "cd71e080-a170-4e71-93ad-e836a3156f42"
      },
      "execution_count": 83,
      "outputs": [
        {
          "output_type": "execute_result",
          "data": {
            "text/plain": [
              "'mit,apache-2.0,other'"
            ],
            "application/vnd.google.colaboratory.intrinsic+json": {
              "type": "string"
            }
          },
          "metadata": {},
          "execution_count": 83
        }
      ]
    },
    {
      "cell_type": "markdown",
      "source": [
        "### Question 4"
      ],
      "metadata": {
        "id": "EFReDldJCqza"
      }
    },
    {
      "cell_type": "code",
      "source": [
        "','.join(df_users['company'].value_counts().head(1).index)"
      ],
      "metadata": {
        "colab": {
          "base_uri": "https://localhost:8080/",
          "height": 35
        },
        "id": "HnzhEeoiQ_sS",
        "outputId": "086925f3-1b07-4694-ee3e-916a6b6d7d81"
      },
      "execution_count": 88,
      "outputs": [
        {
          "output_type": "execute_result",
          "data": {
            "text/plain": [
              "'MICROSOFT'"
            ],
            "application/vnd.google.colaboratory.intrinsic+json": {
              "type": "string"
            }
          },
          "metadata": {},
          "execution_count": 88
        }
      ]
    },
    {
      "cell_type": "markdown",
      "source": [
        "### Question 5"
      ],
      "metadata": {
        "id": "gAAod_iTN6al"
      }
    },
    {
      "cell_type": "code",
      "source": [
        "df_repositories['language'].value_counts().head(1).index[0]"
      ],
      "metadata": {
        "colab": {
          "base_uri": "https://localhost:8080/",
          "height": 35
        },
        "id": "UbMZJc3wRc9S",
        "outputId": "2cc27039-3005-47f0-c315-968fed2bb95e"
      },
      "execution_count": 89,
      "outputs": [
        {
          "output_type": "execute_result",
          "data": {
            "text/plain": [
              "'JavaScript'"
            ],
            "application/vnd.google.colaboratory.intrinsic+json": {
              "type": "string"
            }
          },
          "metadata": {},
          "execution_count": 89
        }
      ]
    },
    {
      "cell_type": "markdown",
      "source": [
        "### Question 6"
      ],
      "metadata": {
        "id": "oMsm-RG3Ovju"
      }
    },
    {
      "cell_type": "code",
      "source": [
        "df_repositories[df_repositories['login'].isin(df_users[pd.to_datetime(df_users['created_at']).dt.year > 2020]['login'])]['language'].value_counts().head(2).index[-1]"
      ],
      "metadata": {
        "colab": {
          "base_uri": "https://localhost:8080/",
          "height": 35
        },
        "id": "9vgSd6tzTEde",
        "outputId": "b4d0e6a2-8f39-41c7-958e-8c93f4679ade"
      },
      "execution_count": 90,
      "outputs": [
        {
          "output_type": "execute_result",
          "data": {
            "text/plain": [
              "'JavaScript'"
            ],
            "application/vnd.google.colaboratory.intrinsic+json": {
              "type": "string"
            }
          },
          "metadata": {},
          "execution_count": 90
        }
      ]
    },
    {
      "cell_type": "markdown",
      "source": [
        "### Question 7"
      ],
      "metadata": {
        "id": "4w-iXnaxOx7Z"
      }
    },
    {
      "cell_type": "code",
      "source": [
        "pivot_table = pd.pivot_table(df_repositories,index='language',values='stargazers_count',aggfunc='mean',sort=True)\n",
        "sorted_pivot = pivot_table.sort_values(by='stargazers_count', ascending=False)\n",
        "sorted_pivot.index[0]"
      ],
      "metadata": {
        "colab": {
          "base_uri": "https://localhost:8080/",
          "height": 35
        },
        "id": "fQl3EPOZVFxA",
        "outputId": "0450e731-b033-4f90-d77f-789db5e6b109"
      },
      "execution_count": 91,
      "outputs": [
        {
          "output_type": "execute_result",
          "data": {
            "text/plain": [
              "'Fluent'"
            ],
            "application/vnd.google.colaboratory.intrinsic+json": {
              "type": "string"
            }
          },
          "metadata": {},
          "execution_count": 91
        }
      ]
    },
    {
      "cell_type": "markdown",
      "source": [
        "### Question 8"
      ],
      "metadata": {
        "id": "HZjE8J8TOz4h"
      }
    },
    {
      "cell_type": "code",
      "source": [
        "df_users['leader_strength'] = df_users['followers']/(1+df_users['following'])\n",
        "\",\".join(df_users.sort_values(by='leader_strength', ascending=False)['login'].head(5))"
      ],
      "metadata": {
        "colab": {
          "base_uri": "https://localhost:8080/",
          "height": 35
        },
        "id": "ckglDPkIsQWJ",
        "outputId": "1b96f343-3a2f-4e4a-e9ff-53ead4fbc690"
      },
      "execution_count": 92,
      "outputs": [
        {
          "output_type": "execute_result",
          "data": {
            "text/plain": [
              "'tiangolo,marijnh,vakila,alexeygrigorev,lewagon'"
            ],
            "application/vnd.google.colaboratory.intrinsic+json": {
              "type": "string"
            }
          },
          "metadata": {},
          "execution_count": 92
        }
      ]
    },
    {
      "cell_type": "markdown",
      "source": [
        "### Question 9"
      ],
      "metadata": {
        "id": "gMi16ZUwPDZ3"
      }
    },
    {
      "cell_type": "code",
      "source": [
        "np.round(df_users['followers'].corr(df_users['public_repos']),3)"
      ],
      "metadata": {
        "colab": {
          "base_uri": "https://localhost:8080/"
        },
        "id": "T0FY5JOwt9w8",
        "outputId": "a38b01e3-0658-40e5-fb4e-49963d264e32"
      },
      "execution_count": 94,
      "outputs": [
        {
          "output_type": "execute_result",
          "data": {
            "text/plain": [
              "0.016"
            ]
          },
          "metadata": {},
          "execution_count": 94
        }
      ]
    },
    {
      "cell_type": "markdown",
      "source": [
        "### Question 10"
      ],
      "metadata": {
        "id": "GgpSAYzOPFBJ"
      }
    },
    {
      "cell_type": "code",
      "source": [
        "model = LinearRegression()"
      ],
      "metadata": {
        "id": "T-3qGK5puwtd"
      },
      "execution_count": 96,
      "outputs": []
    },
    {
      "cell_type": "code",
      "source": [
        "X = df_users[['public_repos']]\n",
        "y = df_users['followers']\n",
        "np.round(model.fit(X,y).coef_[0],3)"
      ],
      "metadata": {
        "colab": {
          "base_uri": "https://localhost:8080/"
        },
        "id": "RsyvQtTwvEWg",
        "outputId": "75961d78-d1cc-4be6-dcf0-b392a3f2b9c0"
      },
      "execution_count": 98,
      "outputs": [
        {
          "output_type": "execute_result",
          "data": {
            "text/plain": [
              "0.277"
            ]
          },
          "metadata": {},
          "execution_count": 98
        }
      ]
    },
    {
      "cell_type": "code",
      "source": [
        "slope, intercept, r_value, p_value, std_err = linregress(df_users['public_repos'], df_users['followers'])\n",
        "np.round(slope,3)"
      ],
      "metadata": {
        "colab": {
          "base_uri": "https://localhost:8080/"
        },
        "id": "v8acbKH4xbCr",
        "outputId": "1dc11161-b149-4363-8bcf-46e72417255d"
      },
      "execution_count": 99,
      "outputs": [
        {
          "output_type": "execute_result",
          "data": {
            "text/plain": [
              "0.277"
            ]
          },
          "metadata": {},
          "execution_count": 99
        }
      ]
    },
    {
      "cell_type": "markdown",
      "source": [
        "### Question 11"
      ],
      "metadata": {
        "id": "t32mPveLzaV1"
      }
    },
    {
      "cell_type": "code",
      "source": [
        "np.round(df_repositories['has_projects'].corr(df_repositories['has_wiki']),3)"
      ],
      "metadata": {
        "colab": {
          "base_uri": "https://localhost:8080/"
        },
        "id": "3JcO_YSeypl5",
        "outputId": "220dda4c-fa57-48e3-aa8a-925713597cc0"
      },
      "execution_count": 100,
      "outputs": [
        {
          "output_type": "execute_result",
          "data": {
            "text/plain": [
              "0.408"
            ]
          },
          "metadata": {},
          "execution_count": 100
        }
      ]
    },
    {
      "cell_type": "markdown",
      "source": [
        "### Question 12"
      ],
      "metadata": {
        "id": "MjCmtT0ZS9-9"
      }
    },
    {
      "cell_type": "code",
      "source": [
        "df_users['hireable'] = df_users['hireable'].fillna(False)\n",
        "np.round((df_users[df_users['hireable']]['following'].mean() - df_users[~df_users['hireable']]['following'].mean()),3)"
      ],
      "metadata": {
        "colab": {
          "base_uri": "https://localhost:8080/"
        },
        "id": "PipfCEDd4Orc",
        "outputId": "efbb9095-dcf4-4633-a607-d35865623fdb"
      },
      "execution_count": 107,
      "outputs": [
        {
          "output_type": "execute_result",
          "data": {
            "text/plain": [
              "47.392"
            ]
          },
          "metadata": {},
          "execution_count": 107
        }
      ]
    },
    {
      "cell_type": "markdown",
      "source": [
        "### Question 14"
      ],
      "metadata": {
        "id": "UMgIYVr2UXFI"
      }
    },
    {
      "cell_type": "code",
      "source": [
        "df_repositories['created_at'] = pd.to_datetime(df_repositories['created_at'])\n",
        "df_repositories['is_weekend'] = df_repositories['created_at'].dt.dayofweek.isin([5, 6])\n",
        "\",\".join(pd.pivot_table(df_repositories[df_repositories['is_weekend']],values='created_at',index='login',aggfunc='count').rename(columns={'created_at': 'weekend_repo_count'}).sort_values(by='weekend_repo_count', ascending=False).index[0:5])"
      ],
      "metadata": {
        "colab": {
          "base_uri": "https://localhost:8080/",
          "height": 35
        },
        "id": "MPfRZWQf40yF",
        "outputId": "7e9ddf14-7b91-4bbf-9759-ba8cccd46e74"
      },
      "execution_count": 110,
      "outputs": [
        {
          "output_type": "execute_result",
          "data": {
            "text/plain": [
              "'janpio,denisdefreyne,MohamedMesto,PurpleBooth,generall'"
            ],
            "application/vnd.google.colaboratory.intrinsic+json": {
              "type": "string"
            }
          },
          "metadata": {},
          "execution_count": 110
        }
      ]
    },
    {
      "cell_type": "markdown",
      "source": [
        "### Question 15"
      ],
      "metadata": {
        "id": "fSyD5QfxU5B1"
      }
    },
    {
      "cell_type": "code",
      "source": [
        "hireable_true = df_users[df_users['hireable'] == True]\n",
        "fraction_hireable_true = hireable_true['email'].notna().mean()\n",
        "\n",
        "hireable_other = df_users[df_users['hireable'] != True]\n",
        "fraction_hireable_other = hireable_other['email'].notna().mean()\n",
        "\n",
        "print(f\"{(fraction_hireable_true - fraction_hireable_other):.3f}\")"
      ],
      "metadata": {
        "colab": {
          "base_uri": "https://localhost:8080/"
        },
        "id": "OEu7N4z6_Y6E",
        "outputId": "87098fa1-482c-4220-91cc-59f8a737ba7d"
      },
      "execution_count": 113,
      "outputs": [
        {
          "output_type": "stream",
          "name": "stdout",
          "text": [
            "-0.010\n"
          ]
        }
      ]
    },
    {
      "cell_type": "markdown",
      "source": [
        "### Question 16"
      ],
      "metadata": {
        "id": "CHkpV1TIVx5p"
      }
    },
    {
      "cell_type": "code",
      "source": [
        "df_users['name'].str.strip().str.split().str[-1].value_counts().index[0]"
      ],
      "metadata": {
        "colab": {
          "base_uri": "https://localhost:8080/",
          "height": 35
        },
        "id": "Zdd6BAnXc6Bf",
        "outputId": "98a29d22-2cdb-43d8-e725-cc2385e8cec5"
      },
      "execution_count": 114,
      "outputs": [
        {
          "output_type": "execute_result",
          "data": {
            "text/plain": [
              "'Schneider'"
            ],
            "application/vnd.google.colaboratory.intrinsic+json": {
              "type": "string"
            }
          },
          "metadata": {},
          "execution_count": 114
        }
      ]
    }
  ],
  "metadata": {
    "colab": {
      "provenance": []
    },
    "kernelspec": {
      "display_name": "Python 3",
      "name": "python3"
    },
    "language_info": {
      "name": "python"
    }
  },
  "nbformat": 4,
  "nbformat_minor": 0
}